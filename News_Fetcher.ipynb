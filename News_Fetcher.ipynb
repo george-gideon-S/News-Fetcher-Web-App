{
  "nbformat": 4,
  "nbformat_minor": 0,
  "metadata": {
    "colab": {
      "provenance": [],
      "gpuType": "T4"
    },
    "kernelspec": {
      "name": "python3",
      "display_name": "Python 3"
    },
    "language_info": {
      "name": "python"
    },
    "accelerator": "GPU"
  },
  "cells": [
    {
      "cell_type": "code",
      "execution_count": 103,
      "metadata": {
        "id": "oFbKK-x98COp"
      },
      "outputs": [],
      "source": [
        "# import necessary libraries\n",
        "import requests\n",
        "from datetime import time\n",
        "import datetime"
      ]
    },
    {
      "cell_type": "code",
      "source": [
        "# Define your API key (replace 'YOUR_API_KEY' with your actual API key)\n",
        "API_KEY = \"YOUR_API_KEY\""
      ],
      "metadata": {
        "id": "9NCBiH318IXy"
      },
      "execution_count": 104,
      "outputs": []
    },
    {
      "cell_type": "code",
      "source": [
        "# Today's date\n",
        "from_ = datetime.date.today()\n",
        "# yesterday's date  & converted to str\n",
        "to_ = str(from_ - datetime.timedelta(days=1))\n",
        "# from_ converted to str\n",
        "from_ = str(from_)"
      ],
      "metadata": {
        "id": "g5JPfRLSopij"
      },
      "execution_count": 105,
      "outputs": []
    },
    {
      "cell_type": "code",
      "source": [
        "# Define the base URL for the News API\n",
        "# base_url = 'https://newsapi.org/v2/top-headlines/sources'\n",
        "base_url = 'https://newsapi.org/v2/everything'"
      ],
      "metadata": {
        "id": "eqmGdoL98NzC"
      },
      "execution_count": 106,
      "outputs": []
    },
    {
      "cell_type": "markdown",
      "source": [
        "# METHOD 1  [base_url + parameters]"
      ],
      "metadata": {
        "id": "_ddYxjIYmaTI"
      }
    },
    {
      "cell_type": "code",
      "source": [
        "params = {\n",
        "          'apiKey': API_KEY,  # your api key\n",
        "          'q': 'ai',   # the keyword we are looking for\n",
        "          'language': 'en',   # we chose the language we want\n",
        "          # 'sources': 'source_1,source_2',   # specify specific news sources if you want articles from particular publishers.\n",
        "          # 'domains': domain,      # Filter by the specific domain (hindustantimes.com)\n",
        "          'from': from_,    # from date\n",
        "          'to': to_,    # to date\n",
        "          'sortBy': 'top',    # filters: \"relevancy,\" \"popularity,\" \"publishedAt, top etc\n",
        "          # 'category': 'technology',   #we chose the category we want\n",
        "          'pageSize': 10     # Adjust the no of articles to be retrieved\n",
        "}"
      ],
      "metadata": {
        "id": "25J0MeN58h9-"
      },
      "execution_count": 107,
      "outputs": []
    },
    {
      "cell_type": "markdown",
      "source": [
        "# METHOD 2  [only url]"
      ],
      "metadata": {
        "id": "ddseH_VMmWdV"
      }
    },
    {
      "cell_type": "code",
      "source": [
        "# Define your url with characterstics\n",
        "newsheadlines_url = ('http://newsapi.org/v2/top-headlines?'\n",
        "                        'domains=www.hindustantimes.com&'\n",
        "                        'q=ai&' #the keyword we are looking for\n",
        "                        # 'country=in&' #we chose the country we want\n",
        "                        # 'category=technology&' #we chose the category we want\n",
        "                        'language=en&' #we chose the language we want\n",
        "                        'pageSize=30&' #no. of results. Default 20, max 100\n",
        "                        'apiKey=API_KEY') # Your Api keys"
      ],
      "metadata": {
        "id": "BaDcpcOC9QW1"
      },
      "execution_count": 108,
      "outputs": []
    },
    {
      "cell_type": "code",
      "source": [
        "# Make the request to the API\n",
        "response = requests.get(base_url, params=params)  # METHOD 1\n",
        "# response = requests.get(newsheadlines_url)      # METHOD 2"
      ],
      "metadata": {
        "id": "NCn8WHJe9CYF"
      },
      "execution_count": 109,
      "outputs": []
    },
    {
      "cell_type": "code",
      "source": [
        "# Execute the code below if you're getting ERROR-Status code: 400\n",
        "# print(response.status_code)\n",
        "# data = response.json()    # this particular line of code recommends any change to be initiated\n",
        "# print(data)"
      ],
      "metadata": {
        "id": "-qF53cU7Uo2P"
      },
      "execution_count": 110,
      "outputs": []
    },
    {
      "cell_type": "code",
      "source": [
        "# Check if the request was successful\n",
        "if response.status_code == 200:\n",
        "    data = response.json()\n",
        "    # Extract and print the articles\n",
        "    articles = data['articles']\n",
        "    if not len(articles) == 0:\n",
        "      for article in articles:\n",
        "          print(f\"Title: {article['title']}\")\n",
        "          print(f\"URL: {article['url']}\")\n",
        "          print()\n",
        "    else:\n",
        "      print(\"No articles are fetched (list is empty)\")\n",
        "else:\n",
        "    print(f\"Failed to retrieve articles (Status code: {response.status_code})\")"
      ],
      "metadata": {
        "id": "WGNMaZHC9Mls"
      },
      "execution_count": null,
      "outputs": []
    }
  ]
}